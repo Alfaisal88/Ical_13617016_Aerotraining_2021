{
 "cells": [
  {
   "cell_type": "code",
   "execution_count": 52,
   "id": "54fa6598-bd4d-4b6e-b391-38f988cb4a29",
   "metadata": {},
   "outputs": [],
   "source": [
    "from matplotlib import pyplot as plt\n",
    "class FDM_1D_Heat:\n",
    "    def __init__(self, node_val, nodes, length, left_bn, right_bn, delta_time, alpha,error):\n",
    "        self.node_val = node_val\n",
    "        self.nodes = nodes\n",
    "        self.node_loc = []\n",
    "        self.length = length\n",
    "        self.left_bn = left_bn\n",
    "        self.right_bn = right_bn\n",
    "        self.node_val_old = node_val\n",
    "        self.delta_time = delta_time\n",
    "        self.alpha = alpha\n",
    "        self.dx = 0\n",
    "        self.error = error\n",
    "        for i in range(self.nodes+1):\n",
    "            self.node_val.append(0)\n",
    "        \n",
    "    def calculate_number_of_nodes(self):\n",
    "        #divide the length with number of nodes+1\n",
    "        self.dx = self.length/(self.nodes+1)\n",
    "        \n",
    "        #input the loction of the nodes\n",
    "        x = 0\n",
    "        for i in range(self.nodes+1):\n",
    "            x += self.dx\n",
    "            self.node_loc.append(x)\n",
    "\n",
    "        #input the value of boundaries\n",
    "        self.node_val[0] = self.left_bn\n",
    "        self.node_val[self.nodes] = self.right_bn        \n",
    "        \n",
    "    \n",
    "    def calculate_Dirichlet_Dirichlet_Heat_Conduction(self):\n",
    "        #This method uses FTCS (Forward in Time Central in Space) scheme for solving the PDE\n",
    "        #calculate only for the inside nodes, the boundary nodes can be skipped\n",
    "        # BN IN IN IN IN IN IN IN BN   \n",
    "        # *  *  *  *  *  *  *  *  *\n",
    "        # BN = Boundary node, IN = Inner node\n",
    "        #the details of calculation can be searched on the internet or CFD class. Keyword: FTCS, 1D heat equation\n",
    "        \n",
    "        error = 10000; #initial value must be a big number\n",
    "        #this loop for is used for iteration\n",
    "        while error > self.error:\n",
    "            error = 0\n",
    "            for i in range(self.nodes+1):\n",
    "                if i == 0 or i == self.nodes :\n",
    "                    continue\n",
    "                else:\n",
    "                    new_val = self.node_val[i] + ((self.alpha * self.delta_time / (self.dx**2)) * (self.node_val[i+1] - 2 * self.node_val[i] + self.node_val[i-1]))\n",
    "                    error += abs(self.node_val[i] - new_val)\n",
    "                    self.node_val[i] = new_val\n",
    "    \n",
    "    def plot_result(self):\n",
    "        #This one is for plotting only\n",
    "        plt.plot(self.node_loc, self.node_val)\n",
    "        plt.xlabel(\"Nodes Location\")\n",
    "        plt.ylabel(\"Nodes Value [degree celcius]\")\n",
    "        plt.title('1D heat equation result')\n",
    "        plt.show()\n",
    "        "
   ]
  },
  {
   "cell_type": "code",
   "execution_count": 53,
   "id": "bac2a36f-b4ad-4bde-a0cc-b714b3dadfff",
   "metadata": {},
   "outputs": [
    {
     "data": {
      "image/png": "[encoded data removed]",
      "text/plain": [
       "<Figure size 432x288 with 1 Axes>"
      ]
     },
     "metadata": {
      "needs_background": "light"
     },
     "output_type": "display_data"
    }
   ],
   "source": [
    "#=================(list kosong, banyak nodes, panjang batang, panas batang kiri, panas batang kanan, perubahan waktu, nilai alpha, error)\n",
    "FDM =  FDM_1D_Heat([], 10, 1, 100, 50, 0.1, 0.01, 0.00001)\n",
    "FDM.calculate_number_of_nodes()\n",
    "FDM.calculate_Dirichlet_Dirichlet_Heat_Conduction()\n",
    "FDM.plot_result()"
   ]
  },
  {
   "cell_type": "code",
   "execution_count": null,
   "id": "839d5d49-9d67-4f26-8828-bb9896f5cb83",
   "metadata": {},
   "outputs": [],
   "source": [
    "#Ini code CFD 1D heat equation yang menggunakan skema FTCS\n",
    "#Resultnya oke karena udah lumayan lurus tuh grafiknya (error disetnya kecil wkwkw)\n",
    "#Detailnya ya begitulah ya\n",
    "#"
   ]
  }
 ],
 "metadata": {
  "kernelspec": {
   "display_name": "Python 3",
   "language": "python",
   "name": "python3"
  },
  "language_info": {
   "codemirror_mode": {
    "name": "ipython",
    "version": 3
   },
   "file_extension": ".py",
   "mimetype": "text/x-python",
   "name": "python",
   "nbconvert_exporter": "python",
   "pygments_lexer": "ipython3",
   "version": "3.8.3"
  }
 },
 "nbformat": 4,
 "nbformat_minor": 5
}
