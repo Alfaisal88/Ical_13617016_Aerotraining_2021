{
 "cells": [
  {
   "cell_type": "code",
   "execution_count": 4,
   "id": "eec00f42-1e0e-47d6-a50e-36fd01491c40",
   "metadata": {},
   "outputs": [
    {
     "name": "stdout",
     "output_type": "stream",
     "text": [
      "1\n",
      "2\n",
      "Fizz\n",
      "4\n",
      "Buzz\n",
      "Fizz\n",
      "7\n",
      "8\n",
      "Fizz\n",
      "Buzz\n",
      "11\n",
      "Fizz\n",
      "13\n",
      "14\n",
      "FizzBuzz\n",
      "16\n",
      "17\n",
      "Fizz\n",
      "19\n",
      "Buzz\n",
      "Fizz\n",
      "22\n",
      "23\n",
      "Fizz\n",
      "Buzz\n",
      "26\n",
      "Fizz\n",
      "28\n",
      "29\n",
      "FizzBuzz\n",
      "31\n",
      "32\n",
      "Fizz\n",
      "34\n",
      "Buzz\n",
      "Fizz\n",
      "37\n",
      "38\n",
      "Fizz\n",
      "Buzz\n",
      "41\n",
      "Fizz\n",
      "43\n",
      "44\n",
      "FizzBuzz\n",
      "46\n",
      "47\n",
      "Fizz\n",
      "49\n",
      "Buzz\n",
      "Fizz\n",
      "52\n",
      "53\n",
      "Fizz\n",
      "Buzz\n",
      "56\n",
      "Fizz\n",
      "58\n",
      "59\n",
      "FizzBuzz\n",
      "61\n",
      "62\n",
      "Fizz\n",
      "64\n",
      "Buzz\n",
      "Fizz\n",
      "67\n",
      "68\n",
      "Fizz\n",
      "Buzz\n",
      "71\n",
      "Fizz\n",
      "73\n",
      "74\n",
      "FizzBuzz\n",
      "76\n",
      "77\n",
      "Fizz\n",
      "79\n",
      "Buzz\n",
      "Fizz\n",
      "82\n",
      "83\n",
      "Fizz\n",
      "Buzz\n",
      "86\n",
      "Fizz\n",
      "88\n",
      "89\n",
      "FizzBuzz\n",
      "91\n",
      "92\n",
      "Fizz\n",
      "94\n",
      "Buzz\n",
      "Fizz\n",
      "97\n",
      "98\n",
      "Fizz\n",
      "Buzz\n"
     ]
    }
   ],
   "source": [
    "#nomor 1\n",
    "for i in range(100):\n",
    "    if((i+1) % 15 == 0):\n",
    "        print(\"FizzBuzz\")\n",
    "    elif((i+1) % 5 == 0):\n",
    "        print(\"Buzz\")\n",
    "    elif((i+1) % 3 == 0):\n",
    "        print(\"Fizz\")\n",
    "    else:\n",
    "        print(i+1)"
   ]
  },
  {
   "cell_type": "code",
   "execution_count": null,
   "id": "5647f376-71ae-49b6-ba9b-9703abdb74aa",
   "metadata": {},
   "outputs": [],
   "source": [
    "#i diulang dari 0 sampe 99 (100 kali)\n",
    "#tiap i yang kelipatan 15 print fizzbuzz, kelipatan 5 fizz, kelipatan 3 buzz,\n",
    "#buat ngehindari multiple print buat satu i, kita pake elif aja jadi tiap i punya pengecekannya satu satu.\n",
    "#pengecekan mulai dari kelipatan 15 karena dia bagian keliparan 3 dan 5. Buat kelipatan 5 dan 3 bebas mau mana yang duluan asal elif\n",
    "#kalo gak memenuhi ketiga syarat itu masukin pake else dan print angka tersebut."
   ]
  },
  {
   "cell_type": "code",
   "execution_count": 36,
   "id": "2764dca8-b30d-43b9-9205-1ded4f266f9a",
   "metadata": {},
   "outputs": [
    {
     "name": "stdin",
     "output_type": "stream",
     "text": [
      "Input :  nanan\n"
     ]
    },
    {
     "name": "stdout",
     "output_type": "stream",
     "text": [
      "output : Yes\n"
     ]
    }
   ],
   "source": [
    "#nomor 2\n",
    "s = input(\"Input : \")\n",
    "k = len(s) - 1\n",
    "nyeh = 0\n",
    "for i in range((len(s))//2):\n",
    "    if(s[i] != s[k]):\n",
    "        nyeh = 1\n",
    "        break\n",
    "    k -= 1\n",
    "if nyeh == 0:\n",
    "    print(\"output : Yes\" )\n",
    "else:\n",
    "    print(\"output : No\" ) \n"
   ]
  },
  {
   "cell_type": "code",
   "execution_count": null,
   "id": "7c302689-56f8-48b3-83b9-0c01980fe3a8",
   "metadata": {},
   "outputs": [],
   "source": [
    "#nomor 2\n",
    "#gak kebayang cara lebih cantik sih\n",
    "#input arraynya\n",
    "#bikin bool namanya nyeh buat nyimpen tanda dia palindrom atau engga. Pertama kali asumsinya palindrome\n",
    "#terus bikin penunjuk yang ada di palind depan dan belakang string\n",
    "#terus di loop deh sampe setengah dari string kecapai\n",
    "#setiap loop di cek terus apakah hurufnya sama atau engga, kalo engga ya bukan palindrome."
   ]
  }
 ],
 "metadata": {
  "kernelspec": {
   "display_name": "Python 3",
   "language": "python",
   "name": "python3"
  },
  "language_info": {
   "codemirror_mode": {
    "name": "ipython",
    "version": 3
   },
   "file_extension": ".py",
   "mimetype": "text/x-python",
   "name": "python",
   "nbconvert_exporter": "python",
   "pygments_lexer": "ipython3",
   "version": "3.8.3"
  }
 },
 "nbformat": 4,
 "nbformat_minor": 5
}
